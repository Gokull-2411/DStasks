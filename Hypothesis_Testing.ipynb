{
 "cells": [
  {
   "cell_type": "code",
   "execution_count": 3,
   "id": "600dd2c8-e387-4acb-acf9-acbededb2ebc",
   "metadata": {},
   "outputs": [],
   "source": [
    "import pandas as pd\n",
    "import numpy as np\n",
    "import scipy.stats as stats\n",
    "from scipy.stats import ttest_1samp, ttest_ind, ttest_rel\n",
    "import statsmodels.api as sm"
   ]
  },
  {
   "cell_type": "markdown",
   "id": "d79456a3-386f-471d-b6d1-2be4ca88c37f",
   "metadata": {},
   "source": [
    "## Hypothesis\n",
    "\n",
    "### NULL HYPOTHESIS\n",
    "\n",
    "##### H₀: The mean weekly operating cost is equal to the theoretical mean operating cost\n",
    "##### (μ = 4,000).\n",
    "\n",
    "### ALTERNATE HYPOTHESIS\n",
    "\n",
    "##### H₁: The mean weekly operating cost is greater than the theoretical mean operating cost\n",
    "\n",
    "##### (μ > 4,000).\n",
    "    "
   ]
  },
  {
   "cell_type": "markdown",
   "id": "71d1f452-92f1-4337-a629-c27d1df505e0",
   "metadata": {},
   "source": [
    "## Compute Test Statistic"
   ]
  },
  {
   "cell_type": "code",
   "execution_count": 6,
   "id": "faefabef-6956-4a88-952f-99164173c4fb",
   "metadata": {},
   "outputs": [
    {
     "name": "stdout",
     "output_type": "stream",
     "text": [
      "Test Statistic (t): -38.0\n"
     ]
    }
   ],
   "source": [
    "x_mean=3050\n",
    "mu=4000\n",
    "sigma=5*25\n",
    "n=25\n",
    "\n",
    "t_statistic = (x_mean - mu) / (sigma / np.sqrt(n))\n",
    "print(f\"Test Statistic (t): {t_statistic}\")"
   ]
  },
  {
   "cell_type": "markdown",
   "id": "2a90cad0-5abc-463b-98a2-3d641459b207",
   "metadata": {},
   "source": [
    "## Critical Value and Desicion Making"
   ]
  },
  {
   "cell_type": "code",
   "execution_count": 7,
   "id": "2385740b-785f-4ff5-b5c3-c62047de753d",
   "metadata": {},
   "outputs": [
    {
     "name": "stdout",
     "output_type": "stream",
     "text": [
      "Critical Value 1.6448536269514722\n"
     ]
    }
   ],
   "source": [
    "alpha=0.05\n",
    "cvalue=stats.norm.ppf(1-alpha)\n",
    "print(\"Critical Value\",cvalue)"
   ]
  },
  {
   "cell_type": "code",
   "execution_count": 9,
   "id": "574f6a63-4f48-4c39-8230-d4eb52aed645",
   "metadata": {},
   "outputs": [
    {
     "name": "stdout",
     "output_type": "stream",
     "text": [
      "Desicion: Fail to reject the null hypothesis\n"
     ]
    }
   ],
   "source": [
    "if t_statistic > cvalue:\n",
    "    d =\"Reject the null hypothesis\"\n",
    "else:\n",
    "    d=\"Fail to reject the null hypothesis\"\n",
    "\n",
    "print(\"Desicion:\",d)\n"
   ]
  },
  {
   "cell_type": "markdown",
   "id": "1c13fe58-77bb-4c3b-a4a7-01ded91c74c2",
   "metadata": {},
   "source": [
    "### Conclusion"
   ]
  },
  {
   "cell_type": "markdown",
   "id": "c4aa4c8e-62ae-441a-a2eb-3e4ef6b74cb6",
   "metadata": {},
   "source": [
    "P-value is greater than the significance level (e.g., 0.05), we fail to reject the null hypothesis, indicating that the observed data are consistent with the null hypothesis."
   ]
  },
  {
   "cell_type": "markdown",
   "id": "250e5c9b-3ca3-408c-9c3d-21c09c69e194",
   "metadata": {},
   "source": [
    "## CHI Square"
   ]
  },
  {
   "cell_type": "code",
   "execution_count": 12,
   "id": "c03441e6-17d4-4a20-a36b-ad0396804da4",
   "metadata": {},
   "outputs": [],
   "source": [
    "table = [[50, 70],  \n",
    "        [80, 100],  \n",
    "        [60, 90],  \n",
    "        [30, 50],   \n",
    "        [20, 50]]   "
   ]
  },
  {
   "cell_type": "code",
   "execution_count": 11,
   "id": "842a62e6-6f1a-4c23-84d1-6d92b74a29e6",
   "metadata": {},
   "outputs": [],
   "source": [
    "satisfaction_levels = [\"Very Satisfied\", \"Satisfied\", \"Neutral\", \"Unsatisfied\", \"Very Unsatisfied\"]\n",
    "device_types = [\"Smart Thermostat\", \"Smart Light\"]"
   ]
  },
  {
   "cell_type": "code",
   "execution_count": 14,
   "id": "4114ee0d-db94-4079-a4c9-4ec2cde10f52",
   "metadata": {},
   "outputs": [
    {
     "name": "stdout",
     "output_type": "stream",
     "text": [
      "Contingency Table:\n",
      "                   Smart Thermostat  Smart Light\n",
      "Very Satisfied                  50           70\n",
      "Satisfied                       80          100\n",
      "Neutral                         60           90\n",
      "Unsatisfied                     30           50\n",
      "Very Unsatisfied                20           50\n"
     ]
    }
   ],
   "source": [
    "data = pd.DataFrame(table, index=satisfaction_levels, columns=device_types)\n",
    "print(\"Contingency Table:\\n\", data)"
   ]
  },
  {
   "cell_type": "markdown",
   "id": "3a6eb390-a45c-4d04-934e-adf47d8ef082",
   "metadata": {},
   "source": [
    "## Hypothesis  \n",
    "\n",
    "#### Null Hypothesis\n",
    "##### H0: There is no association between device type and customer satisfaction.\n",
    "\n",
    "#### Alternate Hypothesis\n",
    "##### H1: There is an association between device type and customer satisfaction.\n"
   ]
  },
  {
   "cell_type": "markdown",
   "id": "44bae17f-e5b1-45b4-8837-74ce2e64f397",
   "metadata": {},
   "source": [
    "## Compute Chi Square Stat"
   ]
  },
  {
   "cell_type": "code",
   "execution_count": 17,
   "id": "385b0af4-d294-4aa1-9029-bd236ee3345e",
   "metadata": {},
   "outputs": [
    {
     "name": "stdout",
     "output_type": "stream",
     "text": [
      "Chi-Square Statistic: 5.638227513227513\n",
      "Degrees of Freedom: 4\n",
      "Expected Frequencies:\n",
      "                   Smart Thermostat  Smart Light\n",
      "Very Satisfied                48.0         72.0\n",
      "Satisfied                     72.0        108.0\n",
      "Neutral                       60.0         90.0\n",
      "Unsatisfied                   32.0         48.0\n",
      "Very Unsatisfied              28.0         42.0\n"
     ]
    }
   ],
   "source": [
    "chi2, p, dof, expected = stats.chi2_contingency(data)\n",
    "print(\"Chi-Square Statistic:\",chi2)\n",
    "print(\"Degrees of Freedom:\",dof)\n",
    "print(\"Expected Frequencies:\\n\", pd.DataFrame(expected, index=satisfaction_levels, columns=device_types))"
   ]
  },
  {
   "cell_type": "markdown",
   "id": "1179ebc1-63f6-4465-8ecb-eb22e17bf136",
   "metadata": {},
   "source": [
    "## Compute Critical Value"
   ]
  },
  {
   "cell_type": "code",
   "execution_count": 19,
   "id": "76644e3a-b905-4aa9-af23-82fcc7b52863",
   "metadata": {},
   "outputs": [
    {
     "name": "stdout",
     "output_type": "stream",
     "text": [
      "Critical Value: 9.487729036781154\n"
     ]
    }
   ],
   "source": [
    "alpha = 0.05\n",
    "critical_value = stats.chi2.ppf(1 - alpha, df=dof)\n",
    "print(\"Critical Value:\",critical_value)"
   ]
  },
  {
   "cell_type": "markdown",
   "id": "a0057960-316c-4a98-a7a7-1fa7dad31e4d",
   "metadata": {},
   "source": [
    "### Desicion"
   ]
  },
  {
   "cell_type": "code",
   "execution_count": 20,
   "id": "ff3029e9-f1b3-479b-980b-1d6515877dcb",
   "metadata": {},
   "outputs": [
    {
     "name": "stdout",
     "output_type": "stream",
     "text": [
      "\n",
      "Decision: Fail to reject the null hypothesis.\n",
      "There is no significant association between device type and customer satisfaction.\n"
     ]
    }
   ],
   "source": [
    "if chi2 > critical_value:\n",
    "    print(\"\\nDecision: Reject the null hypothesis.\\nThere is a significant association between device type and customer satisfaction.\")\n",
    "else:\n",
    "    print(\"\\nDecision: Fail to reject the null hypothesis.\\nThere is no significant association between device type and customer satisfaction.\")"
   ]
  },
  {
   "cell_type": "code",
   "execution_count": null,
   "id": "12643bc3-17f4-4878-a809-be8e7f4338ca",
   "metadata": {},
   "outputs": [],
   "source": []
  }
 ],
 "metadata": {
  "kernelspec": {
   "display_name": "Python 3 (ipykernel)",
   "language": "python",
   "name": "python3"
  },
  "language_info": {
   "codemirror_mode": {
    "name": "ipython",
    "version": 3
   },
   "file_extension": ".py",
   "mimetype": "text/x-python",
   "name": "python",
   "nbconvert_exporter": "python",
   "pygments_lexer": "ipython3",
   "version": "3.12.7"
  }
 },
 "nbformat": 4,
 "nbformat_minor": 5
}
