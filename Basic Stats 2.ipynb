{
 "cells": [
  {
   "cell_type": "code",
   "execution_count": 19,
   "id": "14035065-6bd5-47ed-b42b-3afa828fc1b7",
   "metadata": {},
   "outputs": [],
   "source": [
    "import pandas as pd\n",
    "from scipy import stats\n",
    "import numpy as np"
   ]
  },
  {
   "cell_type": "markdown",
   "id": "ccb4463b-4ed9-4e14-9733-7935dec997d2",
   "metadata": {},
   "source": [
    "#### Read Data"
   ]
  },
  {
   "cell_type": "code",
   "execution_count": 9,
   "id": "b76eb4e2-e983-418a-8bb8-5f728ba91f5e",
   "metadata": {},
   "outputs": [
    {
     "data": {
      "text/html": [
       "<div>\n",
       "<style scoped>\n",
       "    .dataframe tbody tr th:only-of-type {\n",
       "        vertical-align: middle;\n",
       "    }\n",
       "\n",
       "    .dataframe tbody tr th {\n",
       "        vertical-align: top;\n",
       "    }\n",
       "\n",
       "    .dataframe thead th {\n",
       "        text-align: right;\n",
       "    }\n",
       "</style>\n",
       "<table border=\"1\" class=\"dataframe\">\n",
       "  <thead>\n",
       "    <tr style=\"text-align: right;\">\n",
       "      <th></th>\n",
       "      <th>Durability</th>\n",
       "    </tr>\n",
       "  </thead>\n",
       "  <tbody>\n",
       "    <tr>\n",
       "      <th>0</th>\n",
       "      <td>1.13</td>\n",
       "    </tr>\n",
       "    <tr>\n",
       "      <th>1</th>\n",
       "      <td>1.55</td>\n",
       "    </tr>\n",
       "    <tr>\n",
       "      <th>2</th>\n",
       "      <td>1.43</td>\n",
       "    </tr>\n",
       "    <tr>\n",
       "      <th>3</th>\n",
       "      <td>0.92</td>\n",
       "    </tr>\n",
       "    <tr>\n",
       "      <th>4</th>\n",
       "      <td>1.25</td>\n",
       "    </tr>\n",
       "    <tr>\n",
       "      <th>5</th>\n",
       "      <td>1.36</td>\n",
       "    </tr>\n",
       "    <tr>\n",
       "      <th>6</th>\n",
       "      <td>1.32</td>\n",
       "    </tr>\n",
       "    <tr>\n",
       "      <th>7</th>\n",
       "      <td>0.85</td>\n",
       "    </tr>\n",
       "    <tr>\n",
       "      <th>8</th>\n",
       "      <td>1.07</td>\n",
       "    </tr>\n",
       "    <tr>\n",
       "      <th>9</th>\n",
       "      <td>1.48</td>\n",
       "    </tr>\n",
       "    <tr>\n",
       "      <th>10</th>\n",
       "      <td>1.20</td>\n",
       "    </tr>\n",
       "    <tr>\n",
       "      <th>11</th>\n",
       "      <td>1.33</td>\n",
       "    </tr>\n",
       "    <tr>\n",
       "      <th>12</th>\n",
       "      <td>1.18</td>\n",
       "    </tr>\n",
       "    <tr>\n",
       "      <th>13</th>\n",
       "      <td>1.22</td>\n",
       "    </tr>\n",
       "    <tr>\n",
       "      <th>14</th>\n",
       "      <td>1.29</td>\n",
       "    </tr>\n",
       "  </tbody>\n",
       "</table>\n",
       "</div>"
      ],
      "text/plain": [
       "    Durability\n",
       "0         1.13\n",
       "1         1.55\n",
       "2         1.43\n",
       "3         0.92\n",
       "4         1.25\n",
       "5         1.36\n",
       "6         1.32\n",
       "7         0.85\n",
       "8         1.07\n",
       "9         1.48\n",
       "10        1.20\n",
       "11        1.33\n",
       "12        1.18\n",
       "13        1.22\n",
       "14        1.29"
      ]
     },
     "execution_count": 9,
     "metadata": {},
     "output_type": "execute_result"
    }
   ],
   "source": [
    "numbers = [1.13, 1.55, 1.43, 0.92, 1.25, 1.36, 1.32, 0.85, 1.07, 1.48, 1.20, 1.33, 1.18, 1.22, 1.29]\n",
    "data=pd.DataFrame(numbers,columns=['Durability'])\n",
    "data"
   ]
  },
  {
   "cell_type": "markdown",
   "id": "bd4f6ca7-cec1-4480-b4c5-00f770c84832",
   "metadata": {},
   "source": [
    "### Breif about Task 1:\n",
    "\n",
    "**Here we are supposed to construct a 99% confidence interval using sample standard deviation `s`.**\n",
    "\n",
    "**In this situation there are 3 points to be noted:-**\n",
    "\n",
    "1. **The population mean is unknown**\n",
    "2. **The number of samples is less than 30**\n",
    "3. **So we use student-t distribution for this task**\n",
    "\n",
    "### Requirements :\n",
    "\n",
    "1. **Mean**\n",
    "2. **Standard Deviation**\n",
    "3. **Degree of Freedom** \n",
    "\n",
    "### Steps\n",
    "\n",
    "1. **Find mean by (sum of values/total number of values)**\n",
    "2. **Find SD by (1/(n-1)(sum(x-mean)))**\n",
    "3. **Degree of Freedom = n-1**\n",
    "4. **Find critical region(t) with the t table for respective DOF and N**\n",
    "5. **Find Margin of Error using the formula +_t(SD)**\n",
    "6. **Find Confidence Interval by Mean +_ Margin of Error** \n"
   ]
  },
  {
   "cell_type": "code",
   "execution_count": 11,
   "id": "325d4c27-e1c5-4b8b-902b-d301cc81e998",
   "metadata": {},
   "outputs": [
    {
     "data": {
      "text/plain": [
       "Durability    1.238667\n",
       "dtype: float64"
      ]
     },
     "execution_count": 11,
     "metadata": {},
     "output_type": "execute_result"
    }
   ],
   "source": [
    "samp_mean = data.mean()\n",
    "samp_mean"
   ]
  },
  {
   "cell_type": "code",
   "execution_count": 30,
   "id": "57ce3ffb-b216-40a9-b586-5228c460527e",
   "metadata": {},
   "outputs": [
    {
     "data": {
      "text/plain": [
       "Durability    0.193164\n",
       "dtype: float64"
      ]
     },
     "execution_count": 30,
     "metadata": {},
     "output_type": "execute_result"
    }
   ],
   "source": [
    "samp_sd=data.std(ddof=1)\n",
    "samp_sd"
   ]
  },
  {
   "cell_type": "code",
   "execution_count": 42,
   "id": "87aab071-6b84-4ab2-b560-133c96e0cae8",
   "metadata": {},
   "outputs": [
    {
     "name": "stdout",
     "output_type": "stream",
     "text": [
      "**Confidence Interval:** (array([1.09019734]), array([1.38713599]))\n"
     ]
    }
   ],
   "source": [
    "cint=stats.t.interval(0.99,loc=samp_mean,df=14,scale=samp_sd/np.sqrt(15))\n",
    "print(\"**Confidence Interval:**\",cint)"
   ]
  },
  {
   "cell_type": "code",
   "execution_count": 43,
   "id": "05348223-57eb-4bc0-9bf7-8d4487e34690",
   "metadata": {},
   "outputs": [
    {
     "data": {
      "text/plain": [
       "Durability    0.063636\n",
       "dtype: float64"
      ]
     },
     "execution_count": 43,
     "metadata": {},
     "output_type": "execute_result"
    }
   ],
   "source": [
    "data.kurtosis()"
   ]
  },
  {
   "cell_type": "code",
   "execution_count": 44,
   "id": "20a772d9-62f7-4855-b153-3b31085ef175",
   "metadata": {},
   "outputs": [
    {
     "data": {
      "image/png": "[encoded data removed]",
      "text/plain": [
       "<Figure size 640x480 with 1 Axes>"
      ]
     },
     "metadata": {},
     "output_type": "display_data"
    }
   ],
   "source": [
    "import seaborn as sns\n",
    "sns.kdeplot(data, color='blue')\n",
    "plt.show()"
   ]
  },
  {
   "cell_type": "markdown",
   "id": "427888e8-b2af-45f1-9f5a-a61383c34248",
   "metadata": {},
   "source": [
    "### Gives the Denaity Plot of Durability, Shows that it follows a normal distrubution"
   ]
  },
  {
   "cell_type": "markdown",
   "id": "2fbdd13d-8d08-4b49-af95-f5cd25c6058c",
   "metadata": {},
   "source": [
    "### Breif about Task 2:\n",
    "\n",
    "**Here we are supposed to construct a 99% confidence interval using sample standard deviation `s`.**\n",
    "\n",
    "**In this situation there are 3 points to be noted:-**\n",
    "\n",
    "1. **The population mean is known**\n",
    "2. **The number of samples is less than 30**\n",
    "3. **So we use t distribution for this task**\n",
    "\n",
    "### Requirements :\n",
    "\n",
    "1. **Mean**\n",
    "2. **Standard Deviation**\n",
    "3. **DOF**\n",
    "\n",
    "\n",
    "### Steps\n",
    "\n",
    "1. **Find mean by (sum of values/total number of values)**\n",
    "2. **Population SD(sigma) is Given, Find samp SD by PopSD/sqrt(sigma)**\n",
    "3. **Degree of Freedom = n-1**\n",
    "4. **Find critical region(t) with the table for respective DOF and N**\n",
    "5. **Find Margin of Error using the formula +_t(SD)**\n",
    "6. **Find Confidence Interval by Mean +_ Margin of Error** \n",
    "\n"
   ]
  },
  {
   "cell_type": "code",
   "execution_count": 47,
   "id": "5c4c5d3d-66c6-411c-9065-706c311a3e20",
   "metadata": {},
   "outputs": [
    {
     "data": {
      "text/plain": [
       "Durability    1.238667\n",
       "dtype: float64"
      ]
     },
     "execution_count": 47,
     "metadata": {},
     "output_type": "execute_result"
    }
   ],
   "source": [
    "sigma=0.2#population SD \n",
    "samp_mean"
   ]
  },
  {
   "cell_type": "code",
   "execution_count": 48,
   "id": "ae8d00b1-0831-4f77-a445-3739c3f10e64",
   "metadata": {},
   "outputs": [
    {
     "data": {
      "text/plain": [
       "15"
      ]
     },
     "execution_count": 48,
     "metadata": {},
     "output_type": "execute_result"
    }
   ],
   "source": [
    "n=len(data)\n",
    "n"
   ]
  },
  {
   "cell_type": "code",
   "execution_count": 50,
   "id": "06988204-64ff-48d6-bf87-030a53435c53",
   "metadata": {},
   "outputs": [
    {
     "data": {
      "text/plain": [
       "14"
      ]
     },
     "execution_count": 50,
     "metadata": {},
     "output_type": "execute_result"
    }
   ],
   "source": [
    "dof=n-1\n",
    "dof"
   ]
  },
  {
   "cell_type": "code",
   "execution_count": 54,
   "id": "285a9262-ccfb-476c-9ecb-7dd4fd767c30",
   "metadata": {},
   "outputs": [
    {
     "data": {
      "text/plain": [
       "2.5758293035489004"
      ]
     },
     "execution_count": 54,
     "metadata": {},
     "output_type": "execute_result"
    }
   ],
   "source": [
    "z = stats.norm.ppf(1 - (1 - 0.99) / 2)\n",
    "z"
   ]
  },
  {
   "cell_type": "code",
   "execution_count": 80,
   "id": "bc4c10cd-88f5-43ae-ac28-683429489eba",
   "metadata": {},
   "outputs": [
    {
     "data": {
      "text/plain": [
       "0.13301525327090588"
      ]
     },
     "execution_count": 80,
     "metadata": {},
     "output_type": "execute_result"
    }
   ],
   "source": [
    "Margin_of_error=z*(sigma/np.sqrt(n))\n",
    "Margin_of_error"
   ]
  },
  {
   "cell_type": "code",
   "execution_count": 81,
   "id": "7ae76b98-2afc-45bf-8c17-b58999aabc25",
   "metadata": {},
   "outputs": [
    {
     "name": "stdout",
     "output_type": "stream",
     "text": [
      "Lower Interval: Durability    1.105651\n",
      "dtype: float64\n",
      "Upper Interval: Durability    1.371682\n",
      "dtype: float64\n"
     ]
    }
   ],
   "source": [
    "lower_lim=samp_mean-Margin_of_error\n",
    "upper_lim=samp_mean+Margin_of_error\n",
    "print(\"Lower Interval:\",lower_lim)\n",
    "print(\"Upper Interval:\",upper_lim)\n"
   ]
  },
  {
   "cell_type": "markdown",
   "id": "6afc1941-bde9-4694-9987-647db682398a",
   "metadata": {},
   "source": [
    "#### Using stats.norm"
   ]
  },
  {
   "cell_type": "code",
   "execution_count": 85,
   "id": "fc9625fa-e324-4f08-9d6c-11a3627cbfba",
   "metadata": {},
   "outputs": [
    {
     "data": {
      "text/plain": [
       "(array([1.10565141]), array([1.37168192]))"
      ]
     },
     "execution_count": 85,
     "metadata": {},
     "output_type": "execute_result"
    }
   ],
   "source": [
    "ci = stats.norm.interval(0.99, loc=samp_mean, scale=sigma/(np.sqrt(n)))\n",
    "ci"
   ]
  },
  {
   "cell_type": "code",
   "execution_count": null,
   "id": "46709273-9a4f-4fec-82e3-7cf1cfcfca9a",
   "metadata": {},
   "outputs": [],
   "source": []
  }
 ],
 "metadata": {
  "kernelspec": {
   "display_name": "Python 3 (ipykernel)",
   "language": "python",
   "name": "python3"
  },
  "language_info": {
   "codemirror_mode": {
    "name": "ipython",
    "version": 3
   },
   "file_extension": ".py",
   "mimetype": "text/x-python",
   "name": "python",
   "nbconvert_exporter": "python",
   "pygments_lexer": "ipython3",
   "version": "3.12.7"
  }
 },
 "nbformat": 4,
 "nbformat_minor": 5
}
