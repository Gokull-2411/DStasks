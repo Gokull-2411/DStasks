{
 "cells": [
  {
   "cell_type": "markdown",
   "id": "2f0f359a-0565-418e-98c2-66e0b3726d62",
   "metadata": {},
   "source": [
    "### EXERCISE 1 \n",
    "#### Write a Python program that checks whether a given number is prime or not. A prime number is a natural number greater than 1 that has no positive divisors other than 1 and itself."
   ]
  },
  {
   "cell_type": "code",
   "execution_count": 30,
   "id": "dd8a53c1-665b-429c-9765-91f7892f2e52",
   "metadata": {},
   "outputs": [
    {
     "name": "stdin",
     "output_type": "stream",
     "text": [
      "Enter a number: 48\n"
     ]
    },
    {
     "name": "stdout",
     "output_type": "stream",
     "text": [
      "48 is not a prime number\n"
     ]
    }
   ],
   "source": [
    "num=int(input(\"Enter a number:\"))\n",
    "if num == 0 or num == 1: #cover edge cases\n",
    "    print(num ,\"is not a prime number\")\n",
    "elif num>1:\n",
    "    for i in range(2,num): #check in the range of 2 to num if any number is dividing num\n",
    "        if num % i==0:\n",
    "            count=True #setting a flag variable to true to indicate divisibilty\n",
    "            break\n",
    "        else:\n",
    "            count=False\n",
    "    if count == True:\n",
    "        print(num ,\"is not a prime number\") #not a prime\n",
    "    else:\n",
    "        print(num ,\"is a prime number\") # is prime"
   ]
  },
  {
   "cell_type": "markdown",
   "id": "f58b10f9-1099-46c6-b0cd-2ae46cb054b5",
   "metadata": {},
   "source": [
    "### EXERCISE 2 \n",
    "#### Develop a Python program that generates two random numbers and asks the user to enter the product of these numbers. The program should then check if the user's answer is correct and display an appropriate message."
   ]
  },
  {
   "cell_type": "code",
   "execution_count": 1,
   "id": "bf8396e3-95cb-44ac-afb1-eefd41e2ffac",
   "metadata": {},
   "outputs": [
    {
     "name": "stdout",
     "output_type": "stream",
     "text": [
      "12\n",
      "72\n"
     ]
    },
    {
     "name": "stdin",
     "output_type": "stream",
     "text": [
      "Enter the product of numbers: 1024\n"
     ]
    },
    {
     "name": "stdout",
     "output_type": "stream",
     "text": [
      "Wrong Answer. The correct answer is 864\n"
     ]
    }
   ],
   "source": [
    "import random as rd # to generate random integers\n",
    "n=rd.randrange(0,100,1) # within a range and step = 1\n",
    "print(n)\n",
    "m=rd.randrange(0,100,1)\n",
    "print(m)\n",
    "prod=int(input(\"Enter the product of numbers:\"))\n",
    "if prod != n*m: # checking user entered product.\n",
    "    print(\"Wrong Answer. The correct answer is\",n*m) \n",
    "else:\n",
    "    print(\"Woahhhhh, You got it right!\")"
   ]
  },
  {
   "cell_type": "markdown",
   "id": "44c12b99-b7c5-4587-9010-6b2b7915cdd4",
   "metadata": {},
   "source": [
    "### EXCERCISE 3 \n",
    "#### Create a Python script that prints the squares of all even or odd numbers within the range of 100 to 200. Choose either even or odd numbers and document your choice in the code.\n"
   ]
  },
  {
   "cell_type": "code",
   "execution_count": 5,
   "id": "c04555c1-125c-4172-8263-c80e7f62a0dd",
   "metadata": {},
   "outputs": [
    {
     "name": "stdout",
     "output_type": "stream",
     "text": [
      "100 is even.Its square is 10000\n",
      "101 is odd. Its square is 10201\n",
      "102 is even.Its square is 10404\n",
      "103 is odd. Its square is 10609\n",
      "104 is even.Its square is 10816\n",
      "105 is odd. Its square is 11025\n",
      "106 is even.Its square is 11236\n",
      "107 is odd. Its square is 11449\n",
      "108 is even.Its square is 11664\n",
      "109 is odd. Its square is 11881\n",
      "110 is even.Its square is 12100\n",
      "111 is odd. Its square is 12321\n",
      "112 is even.Its square is 12544\n",
      "113 is odd. Its square is 12769\n",
      "114 is even.Its square is 12996\n",
      "115 is odd. Its square is 13225\n",
      "116 is even.Its square is 13456\n",
      "117 is odd. Its square is 13689\n",
      "118 is even.Its square is 13924\n",
      "119 is odd. Its square is 14161\n",
      "120 is even.Its square is 14400\n",
      "121 is odd. Its square is 14641\n",
      "122 is even.Its square is 14884\n",
      "123 is odd. Its square is 15129\n",
      "124 is even.Its square is 15376\n",
      "125 is odd. Its square is 15625\n",
      "126 is even.Its square is 15876\n",
      "127 is odd. Its square is 16129\n",
      "128 is even.Its square is 16384\n",
      "129 is odd. Its square is 16641\n",
      "130 is even.Its square is 16900\n",
      "131 is odd. Its square is 17161\n",
      "132 is even.Its square is 17424\n",
      "133 is odd. Its square is 17689\n",
      "134 is even.Its square is 17956\n",
      "135 is odd. Its square is 18225\n",
      "136 is even.Its square is 18496\n",
      "137 is odd. Its square is 18769\n",
      "138 is even.Its square is 19044\n",
      "139 is odd. Its square is 19321\n",
      "140 is even.Its square is 19600\n",
      "141 is odd. Its square is 19881\n",
      "142 is even.Its square is 20164\n",
      "143 is odd. Its square is 20449\n",
      "144 is even.Its square is 20736\n",
      "145 is odd. Its square is 21025\n",
      "146 is even.Its square is 21316\n",
      "147 is odd. Its square is 21609\n",
      "148 is even.Its square is 21904\n",
      "149 is odd. Its square is 22201\n",
      "150 is even.Its square is 22500\n",
      "151 is odd. Its square is 22801\n",
      "152 is even.Its square is 23104\n",
      "153 is odd. Its square is 23409\n",
      "154 is even.Its square is 23716\n",
      "155 is odd. Its square is 24025\n",
      "156 is even.Its square is 24336\n",
      "157 is odd. Its square is 24649\n",
      "158 is even.Its square is 24964\n",
      "159 is odd. Its square is 25281\n",
      "160 is even.Its square is 25600\n",
      "161 is odd. Its square is 25921\n",
      "162 is even.Its square is 26244\n",
      "163 is odd. Its square is 26569\n",
      "164 is even.Its square is 26896\n",
      "165 is odd. Its square is 27225\n",
      "166 is even.Its square is 27556\n",
      "167 is odd. Its square is 27889\n",
      "168 is even.Its square is 28224\n",
      "169 is odd. Its square is 28561\n",
      "170 is even.Its square is 28900\n",
      "171 is odd. Its square is 29241\n",
      "172 is even.Its square is 29584\n",
      "173 is odd. Its square is 29929\n",
      "174 is even.Its square is 30276\n",
      "175 is odd. Its square is 30625\n",
      "176 is even.Its square is 30976\n",
      "177 is odd. Its square is 31329\n",
      "178 is even.Its square is 31684\n",
      "179 is odd. Its square is 32041\n",
      "180 is even.Its square is 32400\n",
      "181 is odd. Its square is 32761\n",
      "182 is even.Its square is 33124\n",
      "183 is odd. Its square is 33489\n",
      "184 is even.Its square is 33856\n",
      "185 is odd. Its square is 34225\n",
      "186 is even.Its square is 34596\n",
      "187 is odd. Its square is 34969\n",
      "188 is even.Its square is 35344\n",
      "189 is odd. Its square is 35721\n",
      "190 is even.Its square is 36100\n",
      "191 is odd. Its square is 36481\n",
      "192 is even.Its square is 36864\n",
      "193 is odd. Its square is 37249\n",
      "194 is even.Its square is 37636\n",
      "195 is odd. Its square is 38025\n",
      "196 is even.Its square is 38416\n",
      "197 is odd. Its square is 38809\n",
      "198 is even.Its square is 39204\n",
      "199 is odd. Its square is 39601\n"
     ]
    }
   ],
   "source": [
    "for i in range(100,200):\n",
    "    if i %2 == 0:\n",
    "        \n",
    "        print(i,\"is even.Its square is\",pow(i,2)) # for even numbers\n",
    "    else:\n",
    "        print(i,\"is odd. Its square is\",pow(i,2)) # for odd numbers\n",
    "        "
   ]
  },
  {
   "cell_type": "markdown",
   "id": "9a4138c4-393d-4dce-b6d4-8635edba45c9",
   "metadata": {},
   "source": [
    "### EXERCISE 4\n",
    "##### Write a program to count the number of words in a given text."
   ]
  },
  {
   "cell_type": "code",
   "execution_count": 19,
   "id": "c49ef5af-2319-4b56-bad0-ebba8116767c",
   "metadata": {},
   "outputs": [
    {
     "name": "stdin",
     "output_type": "stream",
     "text": [
      "Enter a sentence: what in the why is the what is the when of why is you\n"
     ]
    },
    {
     "data": {
      "text/plain": [
       "{'what': 2, 'in': 1, 'the': 3, 'why': 2, 'is': 3, 'when': 1, 'of': 1, 'you': 1}"
      ]
     },
     "execution_count": 19,
     "metadata": {},
     "output_type": "execute_result"
    }
   ],
   "source": [
    "txt = input(\"Enter a sentence:\")\n",
    "wordcounter = {}\n",
    "words = txt.split()\n",
    "for word in words:\n",
    "    if word not in wordcounter:\n",
    "        wordcounter.update({word:1})\n",
    "    else:\n",
    "        wordcounter[word]+=1\n",
    "wordcounter"
   ]
  },
  {
   "cell_type": "markdown",
   "id": "6df80bf8-aad4-4148-9cb0-680142b21046",
   "metadata": {},
   "source": [
    "### EXERCISE 5\n",
    "#### Write a Python function called is_palindrome that takes a string as input and returns True if the string is a palindrome, and False otherwise. A palindrome is a word, phrase, number, or other sequence of characters that reads the same forward and backward, ignoring spaces, punctuation, and capitalization."
   ]
  },
  {
   "cell_type": "code",
   "execution_count": 26,
   "id": "a317c580-b059-4399-b765-f6a0a6060a15",
   "metadata": {},
   "outputs": [
    {
     "name": "stdin",
     "output_type": "stream",
     "text": [
      "Enter a string: malayalam\n"
     ]
    },
    {
     "name": "stdout",
     "output_type": "stream",
     "text": [
      "malayalam is a palindrome\n"
     ]
    }
   ],
   "source": [
    "word = input(\"Enter a string:\")\n",
    "if word == word[::-1]: #slice it from reverse\n",
    "    print(word,\"is a palindrome\")\n",
    "else:\n",
    "    print(word,\"is not a palindrome\")"
   ]
  },
  {
   "cell_type": "code",
   "execution_count": null,
   "id": "4e330116-6357-4b8a-b0dd-385483476e0b",
   "metadata": {},
   "outputs": [],
   "source": []
  }
 ],
 "metadata": {
  "kernelspec": {
   "display_name": "Python 3 (ipykernel)",
   "language": "python",
   "name": "python3"
  },
  "language_info": {
   "codemirror_mode": {
    "name": "ipython",
    "version": 3
   },
   "file_extension": ".py",
   "mimetype": "text/x-python",
   "name": "python",
   "nbconvert_exporter": "python",
   "pygments_lexer": "ipython3",
   "version": "3.12.7"
  }
 },
 "nbformat": 4,
 "nbformat_minor": 5
}
